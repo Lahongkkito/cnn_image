{
 "cells": [
  {
   "cell_type": "markdown",
   "metadata": {},
   "source": [
    "웹페이지 분석 : url (html)\n",
    "\n",
    "- requests 모듈을 이용해서 html 문자열 데이터를 받아옴 : response\n",
    "- response로 받아온 문자열 html 포멧의 데이터 BeautifulSoup을 이용해서 css-selector를 사용가능한 객체로 파싱\n",
    "- 원하는 부분의 문자열 데이터를 css-selector를 이용해서 가져옵니다."
   ]
  },
  {
   "cell_type": "code",
   "execution_count": 1,
   "metadata": {},
   "outputs": [],
   "source": [
    "import requests\n",
    "from bs4 import BeautifulSoup"
   ]
  },
  {
   "cell_type": "code",
   "execution_count": 2,
   "metadata": {},
   "outputs": [],
   "source": [
    "paths = []\n",
    "for page in range(7):\n",
    "    url = \"http://browse.gmarket.co.kr/search?keyword=%eb%9d%bc%eb%a9%b4&f=c:200001210&k=32&p={}\".format(page)\n",
    "    response = requests.get(url)\n",
    "    dom = BeautifulSoup(response.content, \"html.parser\")\n",
    "    elements = dom.select(\".box__image\")\n",
    "    for element in elements:\n",
    "        path = element.select(\"a\")[0].get(\"href\")\n",
    "        paths.append(path)"
   ]
  },
  {
   "cell_type": "code",
   "execution_count": 3,
   "metadata": {},
   "outputs": [],
   "source": [
    "img_link = []\n",
    "for path in paths:\n",
    "    response = requests.get(path)\n",
    "    dom2 = BeautifulSoup(response.content, \"html.parser\")\n",
    "    img = dom2.select_one(\".box__viewer-container > ul > li.on > a > img\").get(\"src\")\n",
    "    img_link.append(img)"
   ]
  },
  {
   "cell_type": "code",
   "execution_count": 4,
   "metadata": {},
   "outputs": [
    {
     "data": {
      "text/plain": [
       "700"
      ]
     },
     "execution_count": 4,
     "metadata": {},
     "output_type": "execute_result"
    }
   ],
   "source": [
    "len(img_link)"
   ]
  },
  {
   "cell_type": "code",
   "execution_count": 5,
   "metadata": {},
   "outputs": [],
   "source": [
    "!mkdir data_noodle"
   ]
  },
  {
   "cell_type": "code",
   "execution_count": 6,
   "metadata": {},
   "outputs": [],
   "source": [
    "# 이미지 다운로드\n",
    "def download(subject, img_link):\n",
    "    response = requests.get(img_link, stream=True)\n",
    "    save_path, size = \"./data_noodle/{}\".format(subject), 0\n",
    "    with open(save_path, \"wb\") as f:\n",
    "        for chunk in response.iter_content(chunk_size=1024):\n",
    "            if chunk:\n",
    "                size += 1024\n",
    "                f.write(chunk)\n",
    "    return size"
   ]
  },
  {
   "cell_type": "code",
   "execution_count": 7,
   "metadata": {},
   "outputs": [],
   "source": [
    "idx = 1\n",
    "for img in img_link:\n",
    "    file_path = \"noodle_{}.png\".format(idx) \n",
    "    size = download(file_path, img)\n",
    "    idx += 1"
   ]
  },
  {
   "cell_type": "code",
   "execution_count": null,
   "metadata": {},
   "outputs": [],
   "source": []
  }
 ],
 "metadata": {
  "kernelspec": {
   "display_name": "Python 3",
   "language": "python",
   "name": "python3"
  },
  "language_info": {
   "codemirror_mode": {
    "name": "ipython",
    "version": 3
   },
   "file_extension": ".py",
   "mimetype": "text/x-python",
   "name": "python",
   "nbconvert_exporter": "python",
   "pygments_lexer": "ipython3",
   "version": "3.7.4"
  }
 },
 "nbformat": 4,
 "nbformat_minor": 2
}
